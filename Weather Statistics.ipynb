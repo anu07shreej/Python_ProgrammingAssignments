{
 "cells": [
  {
   "cell_type": "markdown",
   "id": "7f633fa1",
   "metadata": {},
   "source": [
    "### Plot weather feature trend for the given period"
   ]
  },
  {
   "cell_type": "code",
   "execution_count": null,
   "id": "af9fcfdb",
   "metadata": {},
   "outputs": [],
   "source": [
    "import pandas as pd\n",
    "import numpy as np\n",
    "import matplotlib.pyplot as plt\n",
    "import seaborn as sns\n",
    "import datetime\n",
    "import re\n",
    "\n",
    "%matplotlib inline\n"
   ]
  },
  {
   "cell_type": "code",
   "execution_count": null,
   "id": "66642f89",
   "metadata": {},
   "outputs": [],
   "source": [
    "\n",
    "df_12 = pd.read_table('./weather_data/Environmental_Data_Deep_Moor_2012.txt')\n",
    "df_13 = pd.read_table('./weather_data/Environmental_Data_Deep_Moor_2013.txt')\n",
    "df_14 = pd.read_table('./weather_data/Environmental_Data_Deep_Moor_2014.txt')\n",
    "df_15 = pd.read_table('./weather_data/Environmental_Data_Deep_Moor_2015.txt')"
   ]
  },
  {
   "cell_type": "code",
   "execution_count": 3,
   "id": "ae213ff9",
   "metadata": {},
   "outputs": [],
   "source": [
    "weather_df = pd.concat([df_12, df_13, df_14, df_15], axis=0)"
   ]
  },
  {
   "cell_type": "code",
   "execution_count": 14,
   "id": "9de23429",
   "metadata": {},
   "outputs": [
    {
     "data": {
      "text/html": [
       "<div>\n",
       "<style scoped>\n",
       "    .dataframe tbody tr th:only-of-type {\n",
       "        vertical-align: middle;\n",
       "    }\n",
       "\n",
       "    .dataframe tbody tr th {\n",
       "        vertical-align: top;\n",
       "    }\n",
       "\n",
       "    .dataframe thead th {\n",
       "        text-align: right;\n",
       "    }\n",
       "</style>\n",
       "<table border=\"1\" class=\"dataframe\">\n",
       "  <thead>\n",
       "    <tr style=\"text-align: right;\">\n",
       "      <th></th>\n",
       "      <th>date       time</th>\n",
       "      <th>Air_Temp</th>\n",
       "      <th>Barometric_Press</th>\n",
       "      <th>Dew_Point</th>\n",
       "      <th>Relative_Humidity</th>\n",
       "      <th>Wind_Dir</th>\n",
       "      <th>Wind_Gust</th>\n",
       "      <th>Wind_Speed</th>\n",
       "    </tr>\n",
       "  </thead>\n",
       "  <tbody>\n",
       "    <tr>\n",
       "      <th>0</th>\n",
       "      <td>2012_01_01 00:02:14</td>\n",
       "      <td>34.3</td>\n",
       "      <td>30.5</td>\n",
       "      <td>26.9</td>\n",
       "      <td>74.2</td>\n",
       "      <td>346.4</td>\n",
       "      <td>11.0</td>\n",
       "      <td>3.6</td>\n",
       "    </tr>\n",
       "    <tr>\n",
       "      <th>1</th>\n",
       "      <td>2012_01_01 00:08:29</td>\n",
       "      <td>34.1</td>\n",
       "      <td>30.5</td>\n",
       "      <td>26.5</td>\n",
       "      <td>73.6</td>\n",
       "      <td>349.0</td>\n",
       "      <td>12.0</td>\n",
       "      <td>8.0</td>\n",
       "    </tr>\n",
       "    <tr>\n",
       "      <th>2</th>\n",
       "      <td>2012_01_01 00:14:45</td>\n",
       "      <td>33.9</td>\n",
       "      <td>30.6</td>\n",
       "      <td>26.8</td>\n",
       "      <td>75.0</td>\n",
       "      <td>217.8</td>\n",
       "      <td>12.0</td>\n",
       "      <td>9.2</td>\n",
       "    </tr>\n",
       "    <tr>\n",
       "      <th>3</th>\n",
       "      <td>2012_01_01 00:21:00</td>\n",
       "      <td>33.8</td>\n",
       "      <td>30.6</td>\n",
       "      <td>27.3</td>\n",
       "      <td>76.6</td>\n",
       "      <td>280.8</td>\n",
       "      <td>17.0</td>\n",
       "      <td>14.0</td>\n",
       "    </tr>\n",
       "    <tr>\n",
       "      <th>4</th>\n",
       "      <td>2012_01_01 00:27:16</td>\n",
       "      <td>33.9</td>\n",
       "      <td>30.6</td>\n",
       "      <td>27.4</td>\n",
       "      <td>77.0</td>\n",
       "      <td>80.6</td>\n",
       "      <td>17.0</td>\n",
       "      <td>9.2</td>\n",
       "    </tr>\n",
       "  </tbody>\n",
       "</table>\n",
       "</div>"
      ],
      "text/plain": [
       "   date       time      Air_Temp  Barometric_Press  Dew_Point  \\\n",
       "0  2012_01_01 00:02:14      34.3              30.5       26.9   \n",
       "1  2012_01_01 00:08:29      34.1              30.5       26.5   \n",
       "2  2012_01_01 00:14:45      33.9              30.6       26.8   \n",
       "3  2012_01_01 00:21:00      33.8              30.6       27.3   \n",
       "4  2012_01_01 00:27:16      33.9              30.6       27.4   \n",
       "\n",
       "   Relative_Humidity  Wind_Dir  Wind_Gust  Wind_Speed  \n",
       "0               74.2     346.4       11.0         3.6  \n",
       "1               73.6     349.0       12.0         8.0  \n",
       "2               75.0     217.8       12.0         9.2  \n",
       "3               76.6     280.8       17.0        14.0  \n",
       "4               77.0      80.6       17.0         9.2  "
      ]
     },
     "execution_count": 14,
     "metadata": {},
     "output_type": "execute_result"
    }
   ],
   "source": [
    "weather_df.head()"
   ]
  },
  {
   "cell_type": "code",
   "execution_count": 15,
   "id": "fde51f4a",
   "metadata": {},
   "outputs": [
    {
     "name": "stdout",
     "output_type": "stream",
     "text": [
      "Enter start date for the trend in yyyy_mm_dd format (from 2012 to 2015)2012_03_20\n"
     ]
    }
   ],
   "source": [
    "from_date = input(\"Enter start date for the trend in yyyy_mm_dd format (from 2012 to 2015)\")"
   ]
  },
  {
   "cell_type": "code",
   "execution_count": 16,
   "id": "1980d022",
   "metadata": {},
   "outputs": [
    {
     "name": "stdout",
     "output_type": "stream",
     "text": [
      "Enter start time for the trend in HH:MM::SS12:20:15\n"
     ]
    }
   ],
   "source": [
    "from_time = input(\"Enter start time for the trend in HH:MM::SS\")"
   ]
  },
  {
   "cell_type": "code",
   "execution_count": 17,
   "id": "b834df3a",
   "metadata": {},
   "outputs": [
    {
     "name": "stdout",
     "output_type": "stream",
     "text": [
      "Enter end date for the trend in yyyy_mm_dd format (from 2012 to 2015)2014_07_12\n"
     ]
    }
   ],
   "source": [
    "to_date = input(\"Enter end date for the trend in yyyy_mm_dd format (from 2012 to 2015)\")"
   ]
  },
  {
   "cell_type": "code",
   "execution_count": 18,
   "id": "ace897bc",
   "metadata": {},
   "outputs": [
    {
     "name": "stdout",
     "output_type": "stream",
     "text": [
      "Enter end time for the trend in HH:MM::SS04:30:22\n"
     ]
    }
   ],
   "source": [
    "to_time = input(\"Enter end time for the trend in HH:MM::SS\")"
   ]
  },
  {
   "cell_type": "code",
   "execution_count": 21,
   "id": "358ab64e",
   "metadata": {},
   "outputs": [
    {
     "name": "stdout",
     "output_type": "stream",
     "text": [
      "Enter the parameter to view the trend for:Air_Temp, Barometric_Press, Dew_Point, Relative_Humidity, Wind_Dir, Wind_Gust, Wind_Speed Dew_Point\n"
     ]
    }
   ],
   "source": [
    "trend_param = input(\"Enter the parameter to view the trend for:\" +\n",
    "                    \"Air_Temp, Barometric_Press, Dew_Point, Relative_Humidity, Wind_Dir, Wind_Gust, Wind_Speed \")"
   ]
  },
  {
   "cell_type": "code",
   "execution_count": 22,
   "id": "eb86c520",
   "metadata": {},
   "outputs": [],
   "source": [
    "y = weather_df[trend_param]"
   ]
  },
  {
   "cell_type": "code",
   "execution_count": null,
   "id": "1802c400",
   "metadata": {},
   "outputs": [],
   "source": []
  },
  {
   "cell_type": "code",
   "execution_count": null,
   "id": "a0b75f05",
   "metadata": {},
   "outputs": [],
   "source": []
  }
 ],
 "metadata": {
  "kernelspec": {
   "display_name": "Python 3 (ipykernel)",
   "language": "python",
   "name": "python3"
  },
  "language_info": {
   "codemirror_mode": {
    "name": "ipython",
    "version": 3
   },
   "file_extension": ".py",
   "mimetype": "text/x-python",
   "name": "python",
   "nbconvert_exporter": "python",
   "pygments_lexer": "ipython3",
   "version": "3.9.12"
  }
 },
 "nbformat": 4,
 "nbformat_minor": 5
}
